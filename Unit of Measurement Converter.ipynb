{
 "cells": [
  {
   "cell_type": "markdown",
   "id": "aac99090-f9d1-48b5-b371-335ecf5149b1",
   "metadata": {},
   "source": [
    "# Unit of Measurement Converter"
   ]
  },
  {
   "cell_type": "code",
   "execution_count": 14,
   "id": "60e47d51-971c-4faa-8eea-7579d0aa3973",
   "metadata": {},
   "outputs": [
    {
     "name": "stdin",
     "output_type": "stream",
     "text": [
      "Enter Starting Unit of Measurement(inches, feet, yards):  inches\n",
      "Enter Unit of Measurment to Convert to(inches, feet, yards):  feet\n",
      "Entert Starting Measurement in Inches:  24\n",
      "Entert Starting Measurement in Feet:  3\n",
      "Entert Starting Measurement in Yards:  1\n"
     ]
    }
   ],
   "source": [
    "convert_from = input(\"Enter Starting Unit of Measurement(inches, feet, yards): \")\n",
    "\n",
    "convert_to = input(\"Enter Unit of Measurment to Convert to(inches, feet, yards): \")\n",
    "\n",
    "number_of_inches = input(\"Entert Starting Measurement in Inches: \")\n",
    "\n",
    "number_of_feet = input(\"Entert Starting Measurement in Feet: \")\n",
    "\n",
    "number_of_yards = input(\"Entert Starting Measurement in Yards: \")"
   ]
  },
  {
   "cell_type": "code",
   "execution_count": 83,
   "id": "6059e747-ea7f-4613-95ba-e763f1bea227",
   "metadata": {},
   "outputs": [
    {
     "name": "stdin",
     "output_type": "stream",
     "text": [
      "Enter Starting Unit of Measurement(inches, feet, yards):  ft\n",
      "Enter Unit of Measurment to Convert to(inches, feet, yards):  yd\n",
      "Enter Starting Measurement in Feet:  5\n"
     ]
    },
    {
     "name": "stdout",
     "output_type": "stream",
     "text": [
      "Result: 5 Feet = 1.67 Yards\n"
     ]
    }
   ],
   "source": [
    "convert_from = input(\"Enter Starting Unit of Measurement(inches, feet, yards): \")\n",
    "\n",
    "convert_to = input(\"Enter Unit of Measurment to Convert to(inches, feet, yards): \")\n",
    "\n",
    "if convert_from.lower() in [\"inches\",\"in\",\"inch\"]:\n",
    "    number_of_inches = int(input(\"Enter Starting Measurement in Inches: \"))\n",
    "    if convert_to.lower() in [\"feet\", \"foot\", \"ft\"]:\n",
    "        print(\"Result: \" + str(number_of_inches) + \" Inches = \" +  str(round(number_of_inches / 12,2)) + \" Feet\")\n",
    "    elif convert_to.lower() in [\"yards\", \"yard\", \"yds\", \"yd\"]:\n",
    "        print(\"Result: \" + str(number_of_inches) + \" Inches = \" +  str(rouind(number_of_inches / 36,2)) + \" Yards\")\n",
    "    else:\n",
    "        print(\"Please Enter either Inches, Feet, or Yards.\")\n",
    "elif convert_from.lower() in [\"feet\", \"foot\", \"ft\"]:\n",
    "    number_of_feet = int(input(\"Enter Starting Measurement in Feet: \"))\n",
    "    if convert_to.lower() in [\"inches\",\"in\",\"inch\"]:\n",
    "        print(\"Result: \" + str(number_of_feet) + \" Feet = \" +  str(round(number_of_feet * 12)) + \" Inches\")\n",
    "    elif convert_to.lower() in [\"yards\", \"yard\", \"yds\", \"yd\"]:\n",
    "        print(\"Result: \" + str(number_of_feet) + \" Feet = \" +  str(round(number_of_feet / 3,2)) + \" Yards\")\n",
    "    else:\n",
    "        print(\"Please Enter either Inches, Feet, or Yards.\")        \n",
    "elif convert_from.lower() in [\"yards\", \"yard\", \"yds\", \"yd\"]:\n",
    "    number_of_yards = int(input(\"Enter Starting Measurement in Yards: \"))\n",
    "    if convert_to.lower() in [\"inches\",\"in\",\"inch\"]:\n",
    "        print(\"Result: \" + str(number_of_yards) + \" Yards = \" +  str(round(number_of_yards * 36)) + \" Inches\")\n",
    "    elif convert_to.lower() in [\"feet\", \"foot\", \"ft\"]:\n",
    "        print(\"Result: \" + str(number_of_yards) + \" Yards = \" +  str(round(number_of_yards * 3)) + \" Feet\")\n",
    "    else:\n",
    "        print(\"Please Enter either Inches, Feet, or Yards.\") \n",
    "else:\n",
    "    print(\"Please Enter either Inches, Feet, or Yards.\")"
   ]
  },
  {
   "cell_type": "code",
   "execution_count": null,
   "id": "f8d03163-a498-466a-a589-d220497dd189",
   "metadata": {},
   "outputs": [],
   "source": []
  }
 ],
 "metadata": {
  "kernelspec": {
   "display_name": "Python 3 (ipykernel)",
   "language": "python",
   "name": "python3"
  },
  "language_info": {
   "codemirror_mode": {
    "name": "ipython",
    "version": 3
   },
   "file_extension": ".py",
   "mimetype": "text/x-python",
   "name": "python",
   "nbconvert_exporter": "python",
   "pygments_lexer": "ipython3",
   "version": "3.12.4"
  }
 },
 "nbformat": 4,
 "nbformat_minor": 5
}
